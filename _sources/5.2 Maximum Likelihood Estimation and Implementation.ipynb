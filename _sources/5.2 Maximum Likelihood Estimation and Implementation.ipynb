{
 "cells": [
  {
   "cell_type": "markdown",
   "metadata": {},
   "source": [
    "# Logistic Regression MLE & Implementation"
   ]
  },
  {
   "cell_type": "markdown",
   "metadata": {},
   "source": [
    "As we tried to find a Maximum Likelihood Function for the Linear Regression, we'll try the same approach for Logistic Regression as well and try to maximize a likelihood function, so that under the assumed statistical model the observed data is most probable. And then we'll try to minimize our Loss function of Logistic Regression using Gradient Descent Implementation. So let's start with MLE first.  \n",
    "  \n",
    "  \n",
    "  \n",
    "\n",
    "## MLE - Logistic Regression\n",
    "\n",
    "Firstly, we need to know which type of distribution our data follows and then we can proceed. And as in the case of Logistic Regression, we are already aware that it follows Bernoulli Distribution. (We saw it in previous notebook).  \n",
    "  \n",
    "  \n",
    "The general Bernoulli Distribution equation looks like:  \n",
    "\n",
    "> $\\large{P(y) = p^y (1-p)^{1-y}}$  \n",
    "\n",
    "The Bernoulli distribution is a discrete distribution having two possible outcomes labelled by $y=0$ and $y=1$ in which $y=1$ (\"success\") occurs with probability \"$p$\" and $y=0$ (\"failure\") occurs with probability \"$1-p$\", where $0<p<1$  \n",
    "\n",
    "  \n",
    "  \n",
    "You can refer on https://mathworld.wolfram.com/BernoulliDistribution.html for more understanding on this equation.\n",
    "  \n",
    "  \n",
    "  \n",
    "  \n",
    "So now we can say,  \n",
    "\n",
    "> $\\large{P(y_i/X_i) = \\hat{y}_i^{y_i}\\hspace{2mm} (1-\\hat{y}_i)^{1 - y_i}}$  \n",
    "> \n",
    ">> $\\hat{y}_i => y_ipred$  \n",
    ">> \n",
    ">> $y_i => y_itrue$  \n",
    ">> \n",
    ">> $X_i => Given \\hspace{2mm}dataset$  \n",
    ">\n",
    "\n",
    "This Equation means value of $y_i$ when the dataset $X_i$ is given is equal to bernoulli distribution equation, as the value of $y_i$ can be either $0$ or $1$.  \n",
    "\n",
    "  \n",
    "  \n",
    "The above equation is for single $i^{th}$ instance, writting it for the whole dataset the equation becomes:  \n",
    "\n",
    "> $\\large{P(y/X) = \\prod^n_{i=1}\\hat{y}_i^{y_i}\\hspace{2mm} (1-\\hat{y}_i)^{1 - y_i}}$\n",
    "(This is the Likelihood we need to maximize.)\n",
    "\n",
    "\n",
    "\n",
    "\n",
    "Taking log:  \n",
    "\n",
    "\n",
    "> $P(y/X) = \\sum^n_{i=1}log(\\hat{y}_i^{y_i}\\hspace{2mm} (1-\\hat{y}_i)^{1 - y_i})$  \n",
    "\n",
    "We know we need to maximize this likelihood, to get the most probable dataset. But to further simplify the calculations and making it more general, we should minimize the Loss function instead. So to convert this Likelihood into Loss Function we simply need to put a (-ve) sign.  \n",
    "  \n",
    "  \n",
    "\n",
    "\n",
    "> **Note:**\n",
    "> \n",
    "> We can also proceed by maximizing the likelihood, but we converted it to Loss function so that further we're able to compare it with other algorithm results. Otherwise working on maximizing the Likelihood will eventually give the same results.\n"
   ]
  },
  {
   "cell_type": "markdown",
   "metadata": {},
   "source": [
    "So the Loss function becomes,  \n",
    "  \n",
    "$L = -\\sum^n_{i=1}log(\\hat{y}_i^{y_i}\\hspace{2mm} (1-\\hat{y}_i)^{1 - y_i})$  \n",
    "  \n",
    "and we have to minimize the loss function now.  \n",
    "  \n",
    "$L = -\\sum^n_{i=1}log(\\hat{y}_i^{y_i}\\hspace{2mm} (1-\\hat{y}_i)^{1 - y_i})$  \n",
    "  \n",
    "$L = -\\sum^n_{i=1}[y_i \\hspace{1mm}log(\\hat{y}_i) + (1 - y_i)\\hspace{1mm}log(1-\\hat{y}_i)]$  \n",
    "  \n",
    "  \n",
    "  \n",
    "  \n",
    "  \n",
    "As we know $\\hat{y}_i$ is our $y_{prediction}$, that will be found out using the Sigmoid function. So we can say  \n",
    "  \n",
    "> $\\hat{y}_i = \\sigma(Z_i) =\\dfrac{1}{1 + e^{-Z_i}}\\hspace{1cm}$ where $Z_i = X_iW$  \n",
    "  \n",
    "Substituting the values, Loss function becomes:  \n",
    "  \n",
    "  \n",
    "> $L(W) = -\\sum^n_{i=1}\\begin{bmatrix}y_i \\hspace{1mm}log\\begin{pmatrix}\\dfrac{1}{1 + e^{-Z_i}} \\end{pmatrix} + (1 - y_i)\\hspace{1mm}log\\begin{pmatrix}1-\\dfrac{1}{1 + e^{-Z_i}}\\end{pmatrix} \\end{bmatrix}$  \n",
    "  \n",
    "  \n",
    "  \n",
    "or we can say:  \n",
    "\n",
    "> $L(W) = -\\sum^n_{i=1}\\begin{bmatrix}y_i \\hspace{1mm}log\\begin{pmatrix} \\sigma(Z_i) \\end{pmatrix} + (1 - y_i)\\hspace{1mm} log\\begin{pmatrix} 1 - \\sigma(Z_i) \\end{pmatrix} \\end{bmatrix}$    \n",
    "  \n",
    "  \n",
    "***  \n",
    "  \n",
    "So now by chain rule of differentiation:  \n",
    "\n",
    "$\\dfrac{dL(W)}{dW} = \\dfrac{dL}{d\\sigma(Z_i)}$ X $\\dfrac{d\\sigma(Z_i)}{dZ_i}$ X $\\dfrac{dZ_i}{dW}$"
   ]
  },
  {
   "cell_type": "markdown",
   "metadata": {},
   "source": [
    ">  1\\. $\\large{\\dfrac{dZ_i}{dW}} :-$\n",
    ">\n",
    ">>  $Z_i = X_iW$\n",
    ">>\n",
    ">>  $\\therefore \\dfrac{dZ_i}{dW} = X_i$\n",
    ">>  \n",
    ">\n",
    ">\n",
    ">  2\\. $\\large{\\dfrac{d\\sigma(Z_i)}{dZ_i}} :-$\n",
    ">  \n",
    ">>  $\\sigma(Z_i) = \\dfrac{1}{1 + e^{-Z_i}}$\n",
    ">>  \n",
    ">>  $\\dfrac{d\\begin{pmatrix} \\dfrac{1}{1 + e^{-Z_i}} \\end{pmatrix}}{dZ_i} = \\dfrac{1}{(1 + e^{-Z_i})^2} \\begin{bmatrix} \\begin{pmatrix}\\dfrac{1}{1 + e^{-Z_i}} \\times 0 \\end{pmatrix}- \\begin{pmatrix} 1 \\times e^{-Z_i}\\end{pmatrix}(-1)\\end{bmatrix}$ #By Division Rule\n",
    ">> \n",
    ">> \n",
    ">>  $\\dfrac{d\\begin{pmatrix} \\sigma(Z_i) \\end{pmatrix}}{dZ_i} = \\dfrac{1}{(1 + e^{-Z_i})^2} \\times (e^{-Z})$\n",
    ">> \n",
    ">>  $\\dfrac{d\\begin{pmatrix} \\sigma(Z_i) \\end{pmatrix}}{dZ_i} = \\dfrac{1}{(1 + e^{-Z_i})} \\times \\dfrac{(e^{-Z})}{(1 + e^{-Z_i})}$\n",
    ">>  \n",
    ">>  $\\dfrac{d\\begin{pmatrix} \\sigma(Z_i) \\end{pmatrix}}{dZ_i} = \\sigma(Z_i) \\times \\dfrac{(e^{-Z})}{(1 + e^{-Z_i})} \\hspace{2cm} \\because \\begin{bmatrix} \\dfrac{1}{(1 + e^{-Z_i})} = \\sigma(Z_i) \\end{bmatrix}$\n",
    ">> \n",
    ">>  $\\dfrac{d\\begin{pmatrix} \\sigma(Z_i) \\end{pmatrix}}{dZ_i} = \\sigma(Z_i) \\times \\dfrac{1 + (e^{-Z}) - 1}{(1 + e^{-Z_i})} \\hspace{2cm}$\n",
    ">> \n",
    ">>  $\\dfrac{d\\begin{pmatrix} \\sigma(Z_i) \\end{pmatrix}}{dZ_i} = \\sigma(Z_i) \\times \\begin{bmatrix} 1 - \\dfrac{1}{(1 + e^{-Z_i})} \\end{bmatrix} \\hspace{2cm}$  \n",
    ">> \n",
    ">>  $\\therefore \\dfrac{d\\begin{pmatrix} \\sigma(Z_i) \\end{pmatrix}}{dZ_i} = \\sigma(Z_i) \\times \\begin{bmatrix} 1 - \\sigma(Z_i) \\end{bmatrix} \\hspace{1cm}$ **# Important Conclusion**\n",
    ">>  \n",
    "> \n",
    ">     \n",
    "> \n",
    ">  3\\. $\\large{\\dfrac{dL}{d\\sigma(Z_i)}} :-$\n",
    "> \n",
    "> \n",
    ">>  $L = -\\sum^n_{i=1}\\begin{bmatrix}y_i \\hspace{1mm}log\\begin{pmatrix} \\sigma(Z_i) \\end{pmatrix} + (1 - y_i)\\hspace{1mm} log\\begin{pmatrix} 1 - \\sigma(Z_i) \\end{pmatrix} \\end{bmatrix}$\n",
    ">> \n",
    ">> $\\dfrac{dL}{d\\sigma(Z_i)} = -\\sum^n_{i=1}\\dfrac{d\\begin{bmatrix}y_i \\hspace{1mm}log\\begin{pmatrix} \\sigma(Z_i) \\end{pmatrix} + (1 - y_i)\\hspace{1mm} log\\begin{pmatrix} 1 - \\sigma(Z_i) \\end{pmatrix} \\end{bmatrix}}{d\\sigma(Z_i)}$\n",
    ">> \n",
    ">> $\\dfrac{dL}{d\\sigma(Z_i)} = -\\sum^n_{i=1}\\begin{bmatrix}\\begin{pmatrix}y_i \\times \\dfrac{1}{\\sigma(Z_i)} \\end{pmatrix} + \\begin{pmatrix} (1 - y_i) \\times \\dfrac{1}{1-\\sigma(Z_i)} \\times (-1) \\end{pmatrix}\\end{bmatrix}$\n",
    ">> \n",
    ">> $\\therefore\\dfrac{dL}{d\\sigma(Z_i)} = -\\sum^n_{i=1} \\begin{bmatrix} \\begin{pmatrix} \\dfrac{y_i}{\\sigma(Z_i)} \\end{pmatrix} - \\begin{pmatrix} \\dfrac{1 - y_i}{1-\\sigma(Z_i)} \\end{pmatrix}\\end{bmatrix}$\n",
    ">> \n",
    "\n",
    "\n",
    "\n",
    "***"
   ]
  },
  {
   "cell_type": "markdown",
   "metadata": {},
   "source": [
    "$\\dfrac{dL(W)}{dW} = \\dfrac{dL}{d\\sigma(Z_i)}$ X $\\dfrac{d\\sigma(Z_i)}{dZ_i}$ X $\\dfrac{dZ_i}{dW}$  \n",
    "  \n",
    "  \n",
    "Substituting The Values:  \n",
    "  \n",
    "  \n",
    "$\\dfrac{dL(W)}{dW} = -\\sum^n_{i=1}\\begin{bmatrix}\\begin{pmatrix} \\dfrac{y_i}{\\sigma(Z_i)} \\end{pmatrix} - \\begin{pmatrix} \\dfrac{1 - y_i}{1-\\sigma(Z_i)} \\end{pmatrix}\\end{bmatrix} \\hspace{1cm} \\times \\hspace{1cm} \n",
    "\\sigma(Z_i) \\times \\begin{bmatrix} 1 - \\sigma(Z_i) \\end{bmatrix}\n",
    "\\hspace{1cm} \\times \\hspace{1cm} X_i$  \n",
    "  \n",
    "  \n",
    "  \n",
    "$\\dfrac{dL(W)}{dW} = -\\sum^n_{i=1}\n",
    "\\begin{bmatrix}\\begin{pmatrix} \n",
    "\\dfrac{y_i}{\\sigma(Z_i)} \\times \\sigma(Z_i) \\times \\begin{bmatrix} 1 - \\sigma(Z_i) \\end{bmatrix} \\times X_i\\end{pmatrix} - \n",
    "\\begin{pmatrix} \\dfrac{1 - y_i}{1-\\sigma(Z_i)} \\times \\sigma(Z_i) \\times \\begin{bmatrix} 1 - \\sigma(Z_i) \\end{bmatrix}  \\times X_i \\end{pmatrix} \\end{bmatrix}$  \n",
    "  \n",
    "  \n",
    "  \n",
    "  \n",
    "$\\dfrac{dL(W)}{dW} = -\\sum^n_{i=1}\n",
    "\\begin{bmatrix}\\begin{pmatrix}\n",
    "y_i  \\times \\begin{bmatrix} 1 - \\sigma(Z_i) \\end{bmatrix} \\times X_i\\end{pmatrix} - \n",
    "\\begin{pmatrix} (1 - y_i) \\times \\sigma(Z_i) \\times X_i \\end{pmatrix} \\end{bmatrix}$  \n",
    "  \n",
    "    \n",
    "  \n",
    "  \n",
    "$\\dfrac{dL(W)}{dW} = -\\sum^n_{i=1} \\begin{bmatrix}\n",
    "y_iX_i - y_i \\sigma(Z_i)X_i - \\sigma(Z_i)X_i + y_i\\sigma(Z_i)X_i\n",
    "\\end{bmatrix}$  \n",
    "  \n",
    "  \n",
    "  \n",
    "$\\dfrac{dL(W)}{dW} = -\\sum^n_{i=1} \\begin{bmatrix}\n",
    "y_iX_i - \\sigma(Z_i)X_i \n",
    "\\end{bmatrix}$  \n",
    "  \n",
    "    \n",
    "    \n",
    "  \n",
    "$\\dfrac{dL(W)}{dW} = -\\sum^n_{i=1} \\begin{bmatrix}\n",
    "y_i - \\sigma(Z_i) \n",
    "\\end{bmatrix}X_i$  \n",
    "  "
   ]
  },
  {
   "cell_type": "markdown",
   "metadata": {},
   "source": [
    "***\n",
    "\n",
    "> **Note :**\n",
    ">   \n",
    "> If you now compare this gradient of loss function of Logistic Regression with the gradient of Linear Regression Loss function, you'll find it very similar(if you neglect the constants).  \n",
    "  \n",
    "  \n",
    "***\n",
    "\n",
    "Now as we got the gradient of this Loss function, we don't need to equate it with $0$ (which is a tedious process on its own), as we now know to find the minima using the Gradient Descent Optimization.  \n",
    "\n",
    "So now let's move to the implementation of Logistic Regression [Coding Part]"
   ]
  },
  {
   "cell_type": "markdown",
   "metadata": {},
   "source": [
    "## Logistic Regression Implementation (Code)"
   ]
  },
  {
   "cell_type": "code",
   "execution_count": 1,
   "metadata": {},
   "outputs": [
    {
     "name": "stdout",
     "output_type": "stream",
     "text": [
      "(200, 2) (200,)\n"
     ]
    }
   ],
   "source": [
    "import numpy as np\n",
    "import matplotlib.pyplot as plt\n",
    "\n",
    "X = np.load(\"./Data/Logistic Regression/X_data.npy\")\n",
    "y = np.load(\"./Data/Logistic Regression/y_data.npy\")\n",
    "\n",
    "print(X.shape, y.shape)"
   ]
  },
  {
   "cell_type": "markdown",
   "metadata": {},
   "source": [
    "X looks like:<br>\n",
    "[[ 2.071561  ,  2.73830923],<br>\n",
    "       [ 1.65916405,  1.05213506],<br>\n",
    "       [ 1.31405726,  4.97514453],<br>\n",
    "       [-0.76778341,  1.03544876],<br>\n",
    "       [10.25399588,  7.16450164],... <b>200 instances</b>]<br>\n",
    "<br>\n",
    "y looks like:<br>\n",
    "[1., 1., 1., 1., 0., 0.,... <b>200 instances</b>]"
   ]
  },
  {
   "cell_type": "code",
   "execution_count": 2,
   "metadata": {},
   "outputs": [
    {
     "data": {
      "image/png": "[encoded data removed]",
      "text/plain": [
       "<Figure size 432x288 with 1 Axes>"
      ]
     },
     "metadata": {
      "needs_background": "light"
     },
     "output_type": "display_data"
    }
   ],
   "source": [
    "plt.scatter(X[:, 0], X[:, 1], c=y)\n",
    "plt.show()"
   ]
  },
  {
   "cell_type": "code",
   "execution_count": 3,
   "metadata": {},
   "outputs": [],
   "source": [
    "class LogisticRegressionCustom:\n",
    "    def __init__(self, learning_rate=0.01):\n",
    "        self.learning_rate = learning_rate\n",
    "    \n",
    "    def sigmoid(self, Z):\n",
    "        return 1/(1 + (np.e)**-Z)\n",
    "    \n",
    "    def predict(self, X):\n",
    "        return self.sigmoid(X.dot(self.W))\n",
    "\n",
    "    def get_gradient(self, X, y): #dL/dW\n",
    "        gradient = []\n",
    "        for i in range(X.shape[1]):\n",
    "            gradient.append(((y - self.predict(X)) * -X[:, i].reshape(-1,1)).sum())\n",
    "        \n",
    "        return np.array(gradient).reshape(-1,1)\n",
    "    \n",
    "    def batch_gradient_descent(self, X, y, n_epochs=1000):\n",
    "        X = np.copy(X)\n",
    "        X = np.concatenate([np.ones((X.shape[0], 1)), X], axis=1) #constant column added\n",
    "        y = y.reshape(-1,1)\n",
    "        self.W = np.random.randn(X.shape[1], 1) #Randomly initialising W\n",
    "        losses = []\n",
    "        for i in range(n_epochs):\n",
    "            self.W = self.W - self.learning_rate*self.get_gradient(X, y)\n",
    "\n",
    "\n",
    "    def fit(self, X, y, method=\"batch\", **kwargs):\n",
    "        if method == \"batch\":\n",
    "            losses = self.batch_gradient_descent(X, y, **kwargs)\n",
    "            \n",
    "        #Methods unimplemented for Stochastic & Mini-Batch Gradient Descent"
   ]
  },
  {
   "cell_type": "code",
   "execution_count": 4,
   "metadata": {},
   "outputs": [
    {
     "name": "stdout",
     "output_type": "stream",
     "text": [
      "[[11.82607369]\n",
      " [-1.65411588]\n",
      " [-0.79292882]]\n"
     ]
    }
   ],
   "source": [
    "lr = LogisticRegressionCustom()\n",
    "lr.fit(X,y)\n",
    "\n",
    "print(lr.W)"
   ]
  },
  {
   "cell_type": "markdown",
   "metadata": {},
   "source": [
    "### A Quick-Overview of the Code\n",
    "\n",
    "> **\\_\\_init__ function :-**  \n",
    ">> This is the constructor of LogisticRegressionCustom class used to initialise the object variables.  \n",
    ">   \n",
    ">     \n",
    "**sigmoid Function :-**  \n",
    ">> This function takes any value of $Z$ and calculates the sigmoid of that value using the formula  \n",
    ">> $\\sigma(Z) = \\dfrac{1}{1+ e^{-Z}}$\n",
    ">   \n",
    ">   \n",
    "> **predict Function :-**  \n",
    ">> It returns the prediction of our model, or we can say it returns the value of $\\sigma(Z)$, i.e. $\\sigma(Z) = \\sigma(XW)$\n",
    ">\n",
    "> **get_gradient Function :-**  \n",
    ">> This is the function which gives the value of $\\dfrac{dL}{dW}$, across every feature of $X$.  \n",
    ">  \n",
    ">  \n",
    "> **batch_gradient_descent Function :-**  \n",
    ">> This function implements the Batch Gradient Descent Optimization, using the Gradient Descent Formula. Notice here we don't need to explicitly add the constant column in $X$, our function does that task internally.  \n",
    ">   \n",
    ">   \n",
    "> **fit Function :-**   \n",
    ">> This function trains our model and calls the suitable Gradient Descent Methods, here we only implemented Batch Gradient Descent method for explanation.\n",
    "    "
   ]
  },
  {
   "cell_type": "markdown",
   "metadata": {},
   "source": [
    "Now as we implemented Logistic Regression on our own, let's have a look on <b>sklearn</b> Logistic Regression as well and compare the results."
   ]
  },
  {
   "cell_type": "code",
   "execution_count": 7,
   "metadata": {},
   "outputs": [
    {
     "data": {
      "text/plain": [
       "LogisticRegression(max_iter=1000)"
      ]
     },
     "execution_count": 7,
     "metadata": {},
     "output_type": "execute_result"
    }
   ],
   "source": [
    "from sklearn.linear_model import LogisticRegression\n",
    "lr1 = LogisticRegression(max_iter=1000)\n",
    "lr1.fit(X,y.ravel())"
   ]
  },
  {
   "cell_type": "code",
   "execution_count": 8,
   "metadata": {},
   "outputs": [
    {
     "data": {
      "text/plain": [
       "(array([12.38871017]), array([[-1.54760191, -0.98471034]]))"
      ]
     },
     "execution_count": 8,
     "metadata": {},
     "output_type": "execute_result"
    }
   ],
   "source": [
    "lr1.intercept_, lr1.coef_"
   ]
  },
  {
   "cell_type": "markdown",
   "metadata": {},
   "source": [
    "And as we can see the results here are very similar, which means our implementation of Logistic Regression is very accurate.  \n",
    "\n",
    "Note that we only implemented the basic mandatory functions in our code, therefore our implementation can be improved by adding various functions like Accuracy, Loss function, etc. So you can try to implement those functions on your own and improve the code."
   ]
  }
 ],
 "metadata": {
  "kernelspec": {
   "display_name": "Python 3 (ipykernel)",
   "language": "python",
   "name": "python3"
  },
  "language_info": {
   "codemirror_mode": {
    "name": "ipython",
    "version": 3
   },
   "file_extension": ".py",
   "mimetype": "text/x-python",
   "name": "python",
   "nbconvert_exporter": "python",
   "pygments_lexer": "ipython3",
   "version": "3.8.10"
  }
 },
 "nbformat": 4,
 "nbformat_minor": 2
}
