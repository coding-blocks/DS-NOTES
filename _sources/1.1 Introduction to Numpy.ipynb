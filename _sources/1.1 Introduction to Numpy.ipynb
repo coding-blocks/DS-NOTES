{
 "cells": [
  {
   "cell_type": "markdown",
   "metadata": {},
   "source": [
    "# Numpy"
   ]
  },
  {
   "cell_type": "markdown",
   "metadata": {},
   "source": [
    "NumPy is a Python library used for working with arrays.\n",
    "It also has functions for working in domain of linear algebra, fourier transform, and matrices.\n",
    "In Python we have lists that serve the purpose of arrays, but they are slow to process.\n",
    "\n",
    "\n",
    "## Why Numpy Array Is better\n",
    "\n",
    "NumPy aims to provide an array object that is up to 50x faster than traditional Python lists.\n",
    "The array object in NumPy is called ndarray, it provides a lot of supporting functions that make working with ndarray very easy.\n",
    "Arrays are very frequently used in data science, where speed and resources are very important.NumPy is a Python library and is written partially in Python, but most of the parts that require fast computation are written in C or C++."
   ]
  },
  {
   "cell_type": "markdown",
   "metadata": {},
   "source": [
    "## Installation Of Numpy Using pip"
   ]
  },
  {
   "cell_type": "markdown",
   "metadata": {},
   "source": [
    "To install numpy we can either run\n",
    "\n",
    "*`pip install numpy`*\n",
    "in your command prompt or terminal or\n",
    "\n",
    "*`!pip install numpy`* in a your jupyter notebook code cell"
   ]
  },
  {
   "cell_type": "code",
   "execution_count": 2,
   "metadata": {},
   "outputs": [
    {
     "name": "stdout",
     "output_type": "stream",
     "text": [
      "Requirement already satisfied: numpy in /home/manu/.local/lib/python3.8/site-packages (1.19.4)\r\n"
     ]
    }
   ],
   "source": [
    "!pip install numpy"
   ]
  },
  {
   "cell_type": "markdown",
   "metadata": {},
   "source": [
    "### Importing Numpy"
   ]
  },
  {
   "cell_type": "code",
   "execution_count": 3,
   "metadata": {},
   "outputs": [],
   "source": [
    "import numpy as np\n",
    "# np is a very common alias name of numpy module"
   ]
  },
  {
   "cell_type": "markdown",
   "metadata": {},
   "source": [
    "## Intialization Of Numpy Array"
   ]
  },
  {
   "cell_type": "code",
   "execution_count": 4,
   "metadata": {},
   "outputs": [],
   "source": [
    "# One Dimensional Array\n",
    "a = np.array([1, 2, 3, 4, 5, 6])\n",
    "\n",
    "#Two Dimensional Array\n",
    "b = np.array([[1, 2, 3, 4], [5, 6, 7, 8], [9, 10, 11, 12]])"
   ]
  },
  {
   "cell_type": "code",
   "execution_count": 5,
   "metadata": {},
   "outputs": [
    {
     "name": "stdout",
     "output_type": "stream",
     "text": [
      "[1 2 3 4 5 6]\n",
      "----------------\n",
      "[[ 1  2  3  4]\n",
      " [ 5  6  7  8]\n",
      " [ 9 10 11 12]]\n",
      "----------------\n",
      "1\n",
      "----------------\n",
      "3\n",
      "----------------\n",
      "[1 2 3 4]\n"
     ]
    }
   ],
   "source": [
    "# Printing the Array \n",
    "print(a)\n",
    "print(\"----------------\")\n",
    "print(b)\n",
    "print(\"----------------\")\n",
    "# We can use indexing for printing any specific element of the array\n",
    "print(a[0])\n",
    "print(\"----------------\")\n",
    "print(b[0][2])\n",
    "print(\"----------------\")\n",
    "# In case of 2d array providing one index will access the 1d array present at that index\n",
    "print(b[0])"
   ]
  },
  {
   "cell_type": "code",
   "execution_count": 6,
   "metadata": {},
   "outputs": [
    {
     "name": "stdout",
     "output_type": "stream",
     "text": [
      "[1 2 3 4 5]\n",
      "----------------\n",
      "[1. 2. 3. 4. 5.]\n",
      "<class 'numpy.float32'>\n"
     ]
    }
   ],
   "source": [
    "l=[1,2,3,4,5,] #Python List\n",
    "\n",
    "array=np.array(l) #providing any python list will do exactly the same as above.\n",
    "print(array)\n",
    "\n",
    "# We can also provide data type at the time of declaring\n",
    "floatArray=np.array(l,dtype=np.float32)\n",
    "print(\"----------------\")\n",
    "print(floatArray)\n",
    "print(type(floatArray[0]))"
   ]
  },
  {
   "cell_type": "markdown",
   "metadata": {},
   "source": [
    "*np.arrange()* method takes a Lower limit,upper limit ,and step and Create a Array with starting element as lower limit and last element less than the given upper limit incrrasing values by given step\n",
    "Upper element is Exclusive\n",
    "\n",
    "`np.arange([start, ]stop, [step, ]dtype=None, *, like=None)`\n"
   ]
  },
  {
   "cell_type": "code",
   "execution_count": 7,
   "metadata": {},
   "outputs": [
    {
     "name": "stdout",
     "output_type": "stream",
     "text": [
      "[2 4 6 8]\n"
     ]
    }
   ],
   "source": [
    "arr= np.arange(2,10,2,dtype=np.int32)\n",
    "print(arr)"
   ]
  },
  {
   "cell_type": "markdown",
   "metadata": {},
   "source": [
    "### Some Data Type In Numpy\n",
    "1. np.int32\n",
    "2. np.int64\n",
    "3. np.float32\n",
    "4. np.float64"
   ]
  },
  {
   "cell_type": "markdown",
   "metadata": {},
   "source": [
    "### Arrays of Zeros or Ones"
   ]
  },
  {
   "cell_type": "markdown",
   "metadata": {},
   "source": [
    "Generating numpy array with all zeros\n",
    "\n",
    "`np.zeros(shape, dtype=float, order='C', *, like=None)`"
   ]
  },
  {
   "cell_type": "code",
   "execution_count": 8,
   "metadata": {},
   "outputs": [
    {
     "name": "stdout",
     "output_type": "stream",
     "text": [
      "[[0. 0. 0.]\n",
      " [0. 0. 0.]]\n"
     ]
    }
   ],
   "source": [
    "Zeros=np.zeros((2,3),dtype=np.float32)\n",
    "print(Zeros)"
   ]
  },
  {
   "cell_type": "markdown",
   "metadata": {},
   "source": [
    "Generating numpy array with all ones\n",
    "\n",
    "`np.zeros(shape, dtype=float, order='C', *, like=None)`"
   ]
  },
  {
   "cell_type": "code",
   "execution_count": 9,
   "metadata": {},
   "outputs": [
    {
     "name": "stdout",
     "output_type": "stream",
     "text": [
      "[[1. 1.]\n",
      " [1. 1.]\n",
      " [1. 1.]]\n"
     ]
    }
   ],
   "source": [
    "Ones=np.ones((3,2))\n",
    "print(Ones)"
   ]
  },
  {
   "cell_type": "markdown",
   "metadata": {},
   "source": [
    "##  Shape, Size and Dimension\n",
    " `NumpyArray.shape` tells the shape of the Array\n",
    " \n",
    " `NumpyArray.size` tells the total number of element in the array\n",
    " \n",
    " `NumpyArray.ndim` tells the number of dimension in the array"
   ]
  },
  {
   "cell_type": "code",
   "execution_count": 10,
   "metadata": {},
   "outputs": [
    {
     "name": "stdout",
     "output_type": "stream",
     "text": [
      "(6,) (3, 4)\n",
      "----------------\n",
      "6 12\n",
      "----------------\n",
      "1 2\n"
     ]
    }
   ],
   "source": [
    "print(a.shape,b.shape)\n",
    "print(\"----------------\")\n",
    "print(a.size,b.size)\n",
    "print(\"----------------\")\n",
    "print(a.ndim,b.ndim)"
   ]
  },
  {
   "cell_type": "markdown",
   "metadata": {},
   "source": [
    "### Reshaping\n",
    "`NumpyArray.reshape()` Takes The new Shape Of The Array as Argument and Returns The New numpy Array"
   ]
  },
  {
   "cell_type": "code",
   "execution_count": 11,
   "metadata": {},
   "outputs": [
    {
     "name": "stdout",
     "output_type": "stream",
     "text": [
      "[[1 2]\n",
      " [3 4]\n",
      " [5 6]]\n",
      "----------------\n",
      "(3, 2)\n"
     ]
    }
   ],
   "source": [
    "c=a.reshape(3,2)\n",
    "print(c)\n",
    "print(\"----------------\")\n",
    "print(c.shape)"
   ]
  },
  {
   "cell_type": "markdown",
   "metadata": {},
   "source": [
    " **Giving -1 As one of the argument means to identify the that value itself**\n",
    " \n",
    " *Only one such Dimension can be Given*"
   ]
  },
  {
   "cell_type": "code",
   "execution_count": 12,
   "metadata": {},
   "outputs": [
    {
     "name": "stdout",
     "output_type": "stream",
     "text": [
      "[[1 2]\n",
      " [3 4]\n",
      " [5 6]]\n",
      "----------------\n",
      "(3, 2)\n"
     ]
    }
   ],
   "source": [
    "c=a.reshape(-1,2)\n",
    "print(c)\n",
    "print(\"----------------\")\n",
    "print(c.shape)"
   ]
  },
  {
   "cell_type": "markdown",
   "metadata": {},
   "source": [
    "## Adding And Removing Element"
   ]
  },
  {
   "cell_type": "markdown",
   "metadata": {},
   "source": [
    "### Addition \n",
    "value = 9\n",
    "\n",
    "index = 1   \n",
    "\n",
    "Insertion at first index\n",
    "\n",
    "*This Methods Returns a new Numpy Array*"
   ]
  },
  {
   "cell_type": "code",
   "execution_count": 13,
   "metadata": {},
   "outputs": [
    {
     "name": "stdout",
     "output_type": "stream",
     "text": [
      "[1 2 3 4 5]\n",
      "----------------\n",
      "[1 6 2 3 4 5]\n"
     ]
    }
   ],
   "source": [
    "# Addition \n",
    "print(array)\n",
    "print(\"----------------\")\n",
    "newArray=np.insert(array,1,6)\n",
    "print(newArray)"
   ]
  },
  {
   "cell_type": "markdown",
   "metadata": {},
   "source": [
    "### Deletion\n",
    "*Takes Two Argument array and index of the element to be deleted*\n",
    "\n",
    "*This Methods Returns a new Numpy Array*"
   ]
  },
  {
   "cell_type": "code",
   "execution_count": 14,
   "metadata": {},
   "outputs": [
    {
     "name": "stdout",
     "output_type": "stream",
     "text": [
      "[1 2 3 4 5]\n",
      "----------------\n",
      "[1 3 4 5]\n"
     ]
    }
   ],
   "source": [
    "# Deletion of the element in the Array\n",
    "print(array)\n",
    "print(\"----------------\")\n",
    "newArray=np.delete(array,1)\n",
    "print(newArray)"
   ]
  },
  {
   "cell_type": "markdown",
   "metadata": {},
   "source": [
    "##  Slicing And Indexing\n",
    "we can slice the index in numpy when accessing elements using slicing operation\n",
    "\n",
    "`NumpyArray[start:end:step]`"
   ]
  },
  {
   "cell_type": "code",
   "execution_count": 15,
   "metadata": {},
   "outputs": [
    {
     "name": "stdout",
     "output_type": "stream",
     "text": [
      "[2 4 6 8]\n",
      "----------------\n",
      "[4 6]\n"
     ]
    }
   ],
   "source": [
    "print(arr)\n",
    "print(\"----------------\")\n",
    "print(arr[1:3])# last index value in excluded"
   ]
  },
  {
   "cell_type": "markdown",
   "metadata": {},
   "source": [
    "*In case of 2d Array*"
   ]
  },
  {
   "cell_type": "code",
   "execution_count": 16,
   "metadata": {},
   "outputs": [
    {
     "name": "stdout",
     "output_type": "stream",
     "text": [
      "[[1 2]\n",
      " [3 4]\n",
      " [5 6]]\n",
      "----------------\n",
      "[[3 4]\n",
      " [5 6]]\n",
      "----------------\n",
      "[5 6]\n"
     ]
    }
   ],
   "source": [
    "\n",
    "print(c)\n",
    "print(\"----------------\")\n",
    "print(c[1:3,0:2])#excessing a 2d array's all row from 1 to 2 and 0 to 2 column\n",
    "print(\"----------------\")\n",
    "print(c[1:3][1])#from array havimg row 1 to 2 accessing 0th column"
   ]
  },
  {
   "cell_type": "markdown",
   "metadata": {},
   "source": [
    "### Using Negative indexes\n",
    "In numpy Negative index can also be used to access the element\n",
    "**-1** indicating the last index\n",
    "**-2** indicating the second last\n",
    "and so on..."
   ]
  },
  {
   "cell_type": "code",
   "execution_count": 17,
   "metadata": {},
   "outputs": [
    {
     "name": "stdout",
     "output_type": "stream",
     "text": [
      "[2 4 6 8]\n",
      "----------------\n",
      "8\n",
      "----------------\n",
      "[8 6]\n"
     ]
    }
   ],
   "source": [
    "print(arr)\n",
    "print(\"----------------\")\n",
    "print(arr[-1])\n",
    "print(\"----------------\")\n",
    "print(arr[-1:-3:-1])"
   ]
  },
  {
   "cell_type": "markdown",
   "metadata": {},
   "source": [
    "## Some Utility Functions"
   ]
  },
  {
   "cell_type": "markdown",
   "metadata": {},
   "source": [
    "### Sum\n",
    "`np.sum(NumpyArray,axis=None, dtype=None)` specifying axis tells the direction along which the operation is to be done\n",
    "\n",
    "If Nothing given sum of every element in the array is given as output"
   ]
  },
  {
   "cell_type": "code",
   "execution_count": 18,
   "metadata": {},
   "outputs": [
    {
     "name": "stdout",
     "output_type": "stream",
     "text": [
      "[[1 2]\n",
      " [3 4]\n",
      " [5 6]]\n",
      "----------------\n",
      "21\n",
      "----------------\n",
      "[ 3  7 11]\n",
      "----------------\n",
      "[ 9 12]\n"
     ]
    }
   ],
   "source": [
    "print(c)\n",
    "print(\"----------------\")\n",
    "totalSum=np.sum(c)\n",
    "print(totalSum)\n",
    "print(\"----------------\")\n",
    "xsum=np.sum(c,axis=1)\n",
    "print(xsum)\n",
    "print(\"----------------\")\n",
    "ysum=np.sum(c,axis=0)\n",
    "print(ysum)"
   ]
  },
  {
   "cell_type": "markdown",
   "metadata": {},
   "source": [
    "### Mean\n",
    "`np.mean(NumpyArray,axis=None, dtype=None)` specifying axis tells the direction along which the operation is to be done\n",
    "\n",
    "If Nothing given sum of every element in the array is given as output"
   ]
  },
  {
   "cell_type": "code",
   "execution_count": 19,
   "metadata": {},
   "outputs": [
    {
     "name": "stdout",
     "output_type": "stream",
     "text": [
      "[[1 2]\n",
      " [3 4]\n",
      " [5 6]]\n",
      "----------------\n",
      "3.5\n",
      "----------------\n",
      "[1.5 3.5 5.5]\n",
      "----------------\n",
      "[3. 4.]\n"
     ]
    }
   ],
   "source": [
    "print(c)\n",
    "print(\"----------------\")\n",
    "totalMean=np.mean(c)\n",
    "print(totalMean)\n",
    "print(\"----------------\")\n",
    "xmean=np.mean(c,axis=1)\n",
    "print(xmean)\n",
    "print(\"----------------\")\n",
    "ymean=np.mean(c,axis=0)\n",
    "print(ymean)"
   ]
  },
  {
   "cell_type": "markdown",
   "metadata": {},
   "source": [
    "### Max\n",
    "max operation in the numpy returns the maximum value present in the array\n",
    "`NumpyArray.max(axis=None)` specifying axis tells the direction along which the operation is to be done\n",
    "\n",
    "If Nothing given sum of every element in the array is given as output"
   ]
  },
  {
   "cell_type": "code",
   "execution_count": 20,
   "metadata": {},
   "outputs": [
    {
     "name": "stdout",
     "output_type": "stream",
     "text": [
      "[[1 2]\n",
      " [3 4]\n",
      " [5 6]]\n",
      "----------------\n",
      "6\n",
      "----------------\n",
      "[2 4 6]\n",
      "----------------\n",
      "[5 6]\n"
     ]
    }
   ],
   "source": [
    "print(c)\n",
    "print(\"----------------\")\n",
    "maxval=c.max()\n",
    "print(maxval)\n",
    "print(\"----------------\")\n",
    "xmax=c.max(axis=1)\n",
    "print(xmax)\n",
    "print(\"----------------\")\n",
    "ymax=c.max(axis=0)\n",
    "print(ymax)"
   ]
  },
  {
   "cell_type": "markdown",
   "metadata": {},
   "source": [
    "### Argmax\n",
    "argmax operation returns the first index of the maximum element in the numpy array\n",
    "`np.argmax(a, axis=None)` specifying axis tells the direction along which the operation is to be done\n",
    "\n",
    "If Nothing given sum of every element in the array is given as output"
   ]
  },
  {
   "cell_type": "code",
   "execution_count": 21,
   "metadata": {},
   "outputs": [
    {
     "name": "stdout",
     "output_type": "stream",
     "text": [
      "[[1 2]\n",
      " [3 4]\n",
      " [5 6]]\n",
      "----------------\n",
      "5\n",
      "----------------\n",
      "[1 1 1]\n",
      "----------------\n",
      "[2 2]\n"
     ]
    }
   ],
   "source": [
    "print(c)\n",
    "print(\"----------------\")\n",
    "maxval=np.argmax(c)\n",
    "print(maxval)\n",
    "print(\"----------------\")\n",
    "xmax=np.argmax(c,axis=1)\n",
    "print(xmax)\n",
    "print(\"----------------\")\n",
    "ymax=np.argmax(c,axis=0)\n",
    "print(ymax)"
   ]
  },
  {
   "cell_type": "markdown",
   "metadata": {},
   "source": [
    "## Operations on Numpy Array\n",
    "\n",
    "In case of a numpy array any mathematical operations work directly on every element of the array. making very useful when performing any vector like calculations\n",
    "\n",
    "In below mentioned example 2 got added to every element of the array and in next one every element got divided by 2"
   ]
  },
  {
   "cell_type": "code",
   "execution_count": 22,
   "metadata": {},
   "outputs": [
    {
     "name": "stdout",
     "output_type": "stream",
     "text": [
      "[1 2 3 4 5 6]\n",
      "----------------\n",
      "[3 4 5 6 7 8]\n"
     ]
    }
   ],
   "source": [
    "print(a)\n",
    "new_a=a+2\n",
    "print(\"----------------\")\n",
    "print(new_a)"
   ]
  },
  {
   "cell_type": "code",
   "execution_count": 23,
   "metadata": {},
   "outputs": [
    {
     "name": "stdout",
     "output_type": "stream",
     "text": [
      "[1 2 3 4 5 6]\n",
      "----------------\n",
      "[0.5 1.  1.5 2.  2.5 3. ]\n"
     ]
    }
   ],
   "source": [
    "print(a)\n",
    "new_a2=a/2\n",
    "print(\"----------------\")\n",
    "print(new_a2)"
   ]
  },
  {
   "cell_type": "markdown",
   "metadata": {},
   "source": [
    "This element-wise opeartions also work in the case of multi-dimension numpy array and between two numpy array operation specified will happen between every elements of the array specified"
   ]
  },
  {
   "cell_type": "code",
   "execution_count": 24,
   "metadata": {},
   "outputs": [
    {
     "name": "stdout",
     "output_type": "stream",
     "text": [
      "[1 2 3 4 5 6] [3 4 5 6 7 8]\n",
      "----------------\n",
      "[ 4  6  8 10 12 14]\n",
      "----------------\n",
      "[ 4 12 24 40 60 84]\n"
     ]
    }
   ],
   "source": [
    "print(a,new_a)\n",
    "print(\"----------------\")\n",
    "new_a=a+new_a\n",
    "print(new_a)\n",
    "print(\"----------------\")\n",
    "multiplied_a=new_a*a\n",
    "print(multiplied_a)"
   ]
  },
  {
   "cell_type": "markdown",
   "metadata": {},
   "source": [
    "*For element wise opeartion to happen dimension and size is very important factor*"
   ]
  },
  {
   "cell_type": "code",
   "execution_count": 25,
   "metadata": {},
   "outputs": [],
   "source": [
    "arr=np.arange(5)"
   ]
  },
  {
   "cell_type": "code",
   "execution_count": 26,
   "metadata": {},
   "outputs": [
    {
     "name": "stdout",
     "output_type": "stream",
     "text": [
      "[1 2 3 4 5 6] 6\n",
      "----------------\n",
      "[0 1 2 3 4] 5\n"
     ]
    }
   ],
   "source": [
    "print(a,len(a))\n",
    "print(\"----------------\")\n",
    "print(arr,len(arr))"
   ]
  },
  {
   "cell_type": "markdown",
   "metadata": {},
   "source": [
    "As, size of a and arr are not equal, element wise operation will not occur here and it will  give `ValueError`.\n",
    "Same thing also occur for any dimensions array. It follows the rule of *broadcasting* brief explanation can be found in the official documentation "
   ]
  },
  {
   "cell_type": "code",
   "execution_count": 27,
   "metadata": {},
   "outputs": [
    {
     "ename": "ValueError",
     "evalue": "operands could not be broadcast together with shapes (6,) (5,) ",
     "output_type": "error",
     "traceback": [
      "\u001b[0;31m---------------------------------------------------------------------------\u001b[0m",
      "\u001b[0;31mValueError\u001b[0m                                Traceback (most recent call last)",
      "\u001b[0;32m<ipython-input-27-76f384bd1f35>\u001b[0m in \u001b[0;36m<module>\u001b[0;34m\u001b[0m\n\u001b[0;32m----> 1\u001b[0;31m \u001b[0mprint\u001b[0m\u001b[0;34m(\u001b[0m\u001b[0ma\u001b[0m\u001b[0;34m+\u001b[0m\u001b[0marr\u001b[0m\u001b[0;34m)\u001b[0m\u001b[0;34m\u001b[0m\u001b[0;34m\u001b[0m\u001b[0m\n\u001b[0m",
      "\u001b[0;31mValueError\u001b[0m: operands could not be broadcast together with shapes (6,) (5,) "
     ]
    }
   ],
   "source": [
    "print(a+arr)"
   ]
  },
  {
   "cell_type": "markdown",
   "metadata": {},
   "source": [
    "As seen above due to diffrent sizes it was unable to broadcast and thus throwed error"
   ]
  },
  {
   "cell_type": "markdown",
   "metadata": {},
   "source": [
    " "
   ]
  },
  {
   "cell_type": "markdown",
   "metadata": {},
   "source": [
    "## Further Readings\n",
    "- https://numpy.org/\n",
    "- https://numpy.org/doc/stable/"
   ]
  }
 ],
 "metadata": {
  "interpreter": {
   "hash": "916dbcbb3f70747c44a77c7bcd40155683ae19c65e1c03b4aa3499c5328201f1"
  },
  "kernelspec": {
   "display_name": "Python 3 (ipykernel)",
   "language": "python",
   "name": "python3"
  },
  "language_info": {
   "codemirror_mode": {
    "name": "ipython",
    "version": 3
   },
   "file_extension": ".py",
   "mimetype": "text/x-python",
   "name": "python",
   "nbconvert_exporter": "python",
   "pygments_lexer": "ipython3",
   "version": "3.8.10"
  }
 },
 "nbformat": 4,
 "nbformat_minor": 2
}
