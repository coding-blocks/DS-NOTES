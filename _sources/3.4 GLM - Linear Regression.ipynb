{
 "cells": [
  {
   "cell_type": "markdown",
   "metadata": {},
   "source": [
    "# Generalised linear model-Linear Regression"
   ]
  },
  {
   "cell_type": "markdown",
   "metadata": {},
   "source": [
    "Now let's dicuss about a very intresting topic called **Generalised linear model** as the name suggest it is generalisation of linear model, linear model is the linear regression technique in which we were assuming a linear relation between our variables.\n",
    "\n",
    "The GLM(generalised linear model) generalizes linear regression by allowing the linear model to be related to the **response variable** via a **link function** and by allowing the magnitude of the variance of each measurement to be a function of its predicted value. generalization of ordinary linear regression that allows for the response variable to have an error distribution other than the normal distribution.  \n",
    "\n",
    "Generalized linear models were formulated by John Nelder and Robert Wedderburn as a way of unifying various other statistical models, including linear regression, logistic regression and Poisson regression.\n",
    "\n",
    "let us first understand some term that are used with context to GLM  \n",
    "\n",
    "- **Responce Variable** is the variable whose expected value is getting predicted by our model in our case $Y$.  \n",
    "- **Predictor** is the set of observed values relating to our response variable.  \n",
    "- **Link fuction** in a Generalized Linear Model maps a non-linear relationship to a linear one, which means you can fit a linear model to the data.More specifically, it connects the predictors in a model with the expected value of the response (dependent) variable in a linear way.\n",
    "\n",
    "\n",
    "To summarize things we can say that-\n",
    "\n",
    ">GLM models allow us to build a linear relationship between the response and predictors, even though their underlying  relationship is not linear. This is made possible by using a link function, which links the response variable to a linear model.`\n",
    "\n"
   ]
  },
  {
   "cell_type": "markdown",
   "metadata": {},
   "source": [
    "## Need Of GLM\n",
    "\n",
    "As we discussed that that we use to glm to derive a relation between response variable and predictor but it was same with the linear regression let's see some cases where linear regression will fail to predict accurately but using GLM to that case will improve our accuracy-\n",
    "\n",
    "Linear Regression model is not suitable if,\n",
    "\n",
    "1\\. The relationship between X and y is not linear. There exists some non-linear relationship between them. For example, y increases exponentially as X increases.just like in below given graph.\n",
    "\n",
    "![image2.png](lr1.png)\n",
    "\n",
    "2\\. Variance of errors in y (commonly called as Homoscedasticity in Linear Regression), is not constant, and varies with X.\n",
    "\n",
    "3\\. Response variable is not continuous, but discrete/categorical. Linear Regression assumes normal distribution of the response variable, which can only be applied on a continuous data. \n",
    "\n",
    "> **Do remember That basic underlying of GLM is still a linear model but with the help of link function and other mathematical function we generalise that linear model to work in other cases too.**"
   ]
  },
  {
   "cell_type": "markdown",
   "metadata": {},
   "source": [
    "##  GLM Equation\n",
    "There is way to identify and calculate the required parameter such as link function and other to see if GLM will work on not.\n",
    "if we can write the the equation of the probability distribution in the form of equation mentioned value then a linear model can be trained for that distribution of data.\n",
    "\n",
    ">$\\large{P(Y)=b(Y)\\times e^{\\Large{(\\eta T(Y)-a(\\eta))}}}$\n",
    "\n",
    "\n",
    "*As you can see the above written equation belongs to a exponential family,if any distribution's probabilty equation belongs to a exponential family and can be written in above mentioned form then a linear model can be trained for it and then along with link function will be fit to predict.*\n",
    "\n",
    "**Each of the above equation's term has it's meaning, let's look at it one by one-**\n",
    "\n",
    "> 1\\. Expected value of the function $T(Y)$ will be our final prediction.It can be written as \n",
    ">   \n",
    "   >> $E_x[T(Y)]$ will be our prediction\n",
    ">    \n",
    "> 2\\. $\\large\\eta$ is the linear predictor or value that our linear model is going to predict.  \n",
    ">  \n",
    "> Therefore, as seen in earlier in multivariable linear regression section prediction is the dot product of our data(X) and our parameters(W)-  \n",
    ">> $\\large\\eta=XW$\n",
    ">    \n",
    ">\n",
    ">3\\. $\\large{b(Y)}$ and $\\large{T(Y)}$ is the function of term of Y\n",
    ">    \n",
    ">\n",
    "> 4\\. $\\large{a(\\eta)}$ is the function of term  of $\\eta$ or you can say that function of term XW\n",
    "\n",
    "\n",
    "You can refer to following link for in-depth understanding and intuition of GLM- https://en.wikipedia.org/wiki/Generalized_linear_model"
   ]
  },
  {
   "cell_type": "markdown",
   "metadata": {},
   "source": [
    "## GLM For Normal Distribution\n",
    "\n",
    "As you know in case of linear regression we assumed a `normal distribution` of the data and applied a linear model on it, Now let's see using GLM equation comparison that a normal distribution's data can be predicted using a linear model or not we know it intuitively that it will, but let see it mathematically.\n",
    "\n",
    "let's assume Y to be normally distributed with mean be $\\mu$ and standard deviation 1  \n",
    "\n",
    "${Y = N(\\mu,1)}$\n",
    "\n",
    "Therefore,\n",
    "\n",
    ">$\\large{{\\displaystyle P(Y)={\\frac {1}{{\\sqrt {2\\pi }}}}e^{-{\\frac {1}{2}}\\left({ {Y-\\mu }}\\right)^{2}}}}$\n",
    "\n",
    "As we know for linear model to work on a distribution it is neccessary for that distribution to belong to exponential family($\\large e$). Our normal distribution satisfies this condition now let's try to write the equation of normal distribution in form of Generalised Linear Model's equation-\n",
    "\n",
    ">${{\\displaystyle P(Y)={\\dfrac {1}{{\\sqrt {2\\pi }}}}e^{-{\\dfrac {1}{2}}\\left({ {Y^2+\\mu^2-2\\times \\mu \\times Y }}\\right)}}}$\n",
    "\n",
    "\n",
    ">${{\\displaystyle P(Y)={\\dfrac {1}{{\\sqrt {2\\pi }}}}e^{-\\frac{Y^2}{2}}\\times e^{(\\mu\\times Y-\\dfrac{\\mu^2}{2})}}}$\n",
    "\n",
    "Now let's compare to the general equation and find out equation of functions of GLM in case of Normal Distribution.\n",
    "\n",
    ">${{\\displaystyle P(Y)={\\dfrac {1}{{\\sqrt {2\\pi }}}}e^{-\\frac{Y^2}{2}}\\times e^{(\\mu \\times Y-\\dfrac{\\mu^2}{2})}}}$\n",
    "\n",
    ">$\\large{P(Y)=b(Y)\\times e^{\\Large{(\\eta T(Y)-a(\\eta))}}}$\n",
    "***\n",
    "On comparing the Two equation we can find out that-\n",
    "\n",
    ">${b(Y)={\\frac {1}{{\\sqrt {2\\pi }}}}e^{-\\frac{Y^2}{2}}}$\n",
    "\n",
    ">${\\eta=\\mu}$\n",
    "\n",
    ">${T(Y)=Y}$\n",
    "\n",
    ">${a(\\eta)=\\frac{\\mu^2}{2}}$\n",
    "***\n",
    "\n",
    "As we saw above $\\eta=\\mu$ Therfore,\n",
    "\n",
    ">$\\large{a(\\eta)=\\frac{\\eta^2}{2}}$\n",
    "\n",
    "\n",
    "As dicussed earlier in this section $\\large\\eta$ is the linear predictor or value that our linear model is going to predict, Therfore,  \n",
    "$\\normalsize{\\eta=XW}$ so we can even replace $\\eta$ as $XW$\n",
    "\n",
    "\n",
    "Also we know that  Expected value of the function $T(Y)$ will be our final prediction which can be written as  \n",
    "\n",
    ">$\\normalsize{E_x[T(Y)]}$ will be our prediction\n",
    "\n",
    "Frome above derived relations we can say that.\n",
    "\n",
    ">$\\normalsize{E_x[Y]}$ will be our prediction.\n",
    "\n",
    "**Expected value of a variable is the mean of that variable**  therefore as Y belongs to a normal distribution we assumed $\\mu$ to be it's mean Therefore,\n",
    "\n",
    ">$\\normalsize{E_x[Y]=\\mu}$\n",
    "\n",
    ">$\\normalsize{E_x[Y]=\\eta}$\n",
    "\n",
    ">$\\normalsize{E_x[Y]=XW}$\n",
    "\n",
    "\n",
    "**`Therefore, Normal distribution can be predicted using linear model.`**\n"
   ]
  },
  {
   "cell_type": "markdown",
   "metadata": {},
   "source": [
    "## Assumptions of GLM:\n",
    "Similar to Linear Regression Model, there are some basic assumptions for Generalized Linear Models as well. Most of the assumptions are similar to Linear Regression models, while some of the assumptions of Linear Regression are modified.\n",
    "\n",
    "1. Data should be independent and random (Each Random variable has the same probability distribution).  \n",
    "2. The response variable y does not need to be normally distributed, but the distribution is from an exponential family (e.g. binomial, Poisson, multinomial, normal)  \n",
    "2. The original response variable need not have a linear relationship with the independent variables, but the transformed response variable (through the link function) is linearly dependent on the independent variables.  \n",
    "3. Homoscedasticity (i.e constant variance) need not be satisfied. Response variable Error variance can increase, or decrease with the independent variables.  \n",
    "4. Errors are independent but need not be normally distributed  \n",
    "\n",
    "\n",
    "*In this section we saw GLM using linear regression further we will se GLM on other probability distribution and as we will be willing to estimate it using linear model we will require GLM in upcomimg sections in Loistic regression you will se so.*\n"
   ]
  },
  {
   "cell_type": "markdown",
   "metadata": {},
   "source": [
    "## Further Readings\n",
    "\n",
    "https://en.wikipedia.org/wiki/Generalized_linear_model"
   ]
  }
 ],
 "metadata": {
  "kernelspec": {
   "display_name": "Python 3 (ipykernel)",
   "language": "python",
   "name": "python3"
  },
  "language_info": {
   "codemirror_mode": {
    "name": "ipython",
    "version": 3
   },
   "file_extension": ".py",
   "mimetype": "text/x-python",
   "name": "python",
   "nbconvert_exporter": "python",
   "pygments_lexer": "ipython3",
   "version": "3.8.10"
  }
 },
 "nbformat": 4,
 "nbformat_minor": 2
}
